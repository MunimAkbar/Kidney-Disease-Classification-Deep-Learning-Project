{
 "cells": [
  {
   "cell_type": "code",
   "execution_count": 2,
   "id": "7108e70e",
   "metadata": {},
   "outputs": [
    {
     "name": "stdout",
     "output_type": "stream",
     "text": [
      "hello\n"
     ]
    }
   ],
   "source": [
    "print(\"hello\")"
   ]
  },
  {
   "cell_type": "code",
   "execution_count": 3,
   "id": "0415c82f",
   "metadata": {},
   "outputs": [],
   "source": [
    "import os "
   ]
  },
  {
   "cell_type": "code",
   "execution_count": 4,
   "id": "a5bb263c",
   "metadata": {},
   "outputs": [
    {
     "data": {
      "text/plain": [
       "'d:\\\\WorkANDProjects\\\\Kidney-Disease-Classification-Deep-Learning-Project\\\\research'"
      ]
     },
     "execution_count": 4,
     "metadata": {},
     "output_type": "execute_result"
    }
   ],
   "source": [
    "%pwd"
   ]
  },
  {
   "cell_type": "code",
   "execution_count": 5,
   "id": "19c56ecb",
   "metadata": {},
   "outputs": [],
   "source": [
    "os.chdir(\"d:/WorkANDProjects/Kidney-Disease-Classification-Deep-Learning-Project\")"
   ]
  },
  {
   "cell_type": "code",
   "execution_count": 6,
   "id": "6f5ea50e",
   "metadata": {},
   "outputs": [
    {
     "data": {
      "text/plain": [
       "'d:\\\\WorkANDProjects\\\\Kidney-Disease-Classification-Deep-Learning-Project'"
      ]
     },
     "execution_count": 6,
     "metadata": {},
     "output_type": "execute_result"
    }
   ],
   "source": [
    "%pwd"
   ]
  },
  {
   "cell_type": "code",
   "execution_count": 14,
   "id": "654fbc98",
   "metadata": {},
   "outputs": [
    {
     "name": "stdout",
     "output_type": "stream",
     "text": [
      "✅ Subset created at: D:\\WorkANDProjects\\Kidney-Disease-Classification-Deep-Learning-Project\\artifacts\\data_ingestion\\subset_kidney_ct_scan\n"
     ]
    }
   ],
   "source": [
    "import os\n",
    "import shutil\n",
    "from pathlib import Path\n",
    "\n",
    "# Original dataset path\n",
    "original_dataset = r\"D:\\WorkANDProjects\\Kidney-Disease-Classification-Deep-Learning-Project\\artifacts\\data_ingestion\\kidney-ct-scan-image\"\n",
    "\n",
    "# New subset dataset path\n",
    "subset_dataset = r\"D:\\WorkANDProjects\\Kidney-Disease-Classification-Deep-Learning-Project\\artifacts\\data_ingestion\\subset_kidney_ct_scan\"\n",
    "\n",
    "# Number of images per class\n",
    "MAX_IMAGES = 500  \n",
    "\n",
    "def create_subset(original_dataset, subset_dataset, max_images=500):\n",
    "    os.makedirs(subset_dataset, exist_ok=True)\n",
    "\n",
    "    for class_name in os.listdir(original_dataset):\n",
    "        class_path = os.path.join(original_dataset, class_name)\n",
    "        subset_class_path = os.path.join(subset_dataset, class_name)\n",
    "\n",
    "        if os.path.isdir(class_path):\n",
    "            os.makedirs(subset_class_path, exist_ok=True)\n",
    "\n",
    "            images = os.listdir(class_path)[:max_images]  # Take first N images\n",
    "            for img in images:\n",
    "                src = os.path.join(class_path, img)\n",
    "                dst = os.path.join(subset_class_path, img)\n",
    "                shutil.copy(src, dst)\n",
    "\n",
    "    print(f\"✅ Subset created at: {subset_dataset}\")\n",
    "\n",
    "if __name__ == \"__main__\":\n",
    "    create_subset(original_dataset, subset_dataset, MAX_IMAGES)\n"
   ]
  },
  {
   "cell_type": "code",
   "execution_count": 22,
   "id": "5d877d79",
   "metadata": {},
   "outputs": [],
   "source": [
    "from dataclasses import dataclass\n",
    "from pathlib import Path\n",
    "\n",
    "\n",
    "@dataclass(frozen=True)\n",
    "class TrainingConfig:\n",
    "    root_dir: Path\n",
    "    trained_model_path: Path\n",
    "    updated_base_model_path: Path\n",
    "    training_data: Path\n",
    "    params_epochs: int\n",
    "    params_batch_size: int\n",
    "    params_is_augmentation: bool\n",
    "    params_image_size: list"
   ]
  },
  {
   "cell_type": "code",
   "execution_count": 23,
   "id": "bd20dd4e",
   "metadata": {},
   "outputs": [],
   "source": [
    "\n",
    "from cnnClassifier.constants import *\n",
    "from cnnClassifier.utils.common import read_yaml, create_directories\n",
    "import tensorflow as tf"
   ]
  },
  {
   "cell_type": "code",
   "execution_count": 24,
   "id": "315704b6",
   "metadata": {},
   "outputs": [],
   "source": [
    "class ConfigurationManager:\n",
    "    def __init__(\n",
    "        self,\n",
    "        config_filepath = CONFIG_FILE_PATH,\n",
    "        params_filepath = PARAMS_FILE_PATH):\n",
    "\n",
    "        self.config = read_yaml(config_filepath)\n",
    "        self.params = read_yaml(params_filepath)\n",
    "\n",
    "        create_directories([self.config.artifacts_root])\n",
    "\n",
    "\n",
    "    \n",
    "    def get_training_config(self) -> TrainingConfig:\n",
    "        training = self.config.training\n",
    "        prepare_base_model = self.config.prepare_base_model\n",
    "        params = self.params\n",
    "        training_data = os.path.join(self.config.data_ingestion.unzip_dir, \"subset_kidney_ct_scan\")\n",
    "        create_directories([\n",
    "            Path(training.root_dir)\n",
    "        ])\n",
    "\n",
    "        training_config = TrainingConfig(\n",
    "            root_dir=Path(training.root_dir),\n",
    "            trained_model_path=Path(training.trained_model_path),\n",
    "            updated_base_model_path=Path(prepare_base_model.updated_base_model_path),\n",
    "            training_data=Path(training_data),\n",
    "            params_epochs=params.EPOCHS,\n",
    "            params_batch_size=params.BATCH_SIZE,\n",
    "            params_is_augmentation=params.AUGMENTATION,\n",
    "            params_image_size=params.IMAGE_SIZE\n",
    "        )\n",
    "\n",
    "        return training_config"
   ]
  },
  {
   "cell_type": "code",
   "execution_count": 25,
   "id": "86151795",
   "metadata": {},
   "outputs": [],
   "source": [
    "import os\n",
    "import urllib.request as request\n",
    "from zipfile import ZipFile\n",
    "import tensorflow as tf\n",
    "import time"
   ]
  },
  {
   "cell_type": "code",
   "execution_count": 26,
   "id": "03712d30",
   "metadata": {},
   "outputs": [],
   "source": [
    "class Training:\n",
    "    def __init__(self, config: TrainingConfig):\n",
    "        self.config = config\n",
    "\n",
    "    \n",
    "    def get_base_model(self):\n",
    "        self.model = tf.keras.models.load_model(\n",
    "            self.config.updated_base_model_path\n",
    "        )\n",
    "\n",
    "    def train_valid_generator(self):\n",
    "\n",
    "        datagenerator_kwargs = dict(\n",
    "            rescale = 1./255,\n",
    "            validation_split=0.20\n",
    "        )\n",
    "\n",
    "        dataflow_kwargs = dict(\n",
    "            target_size=self.config.params_image_size[:-1],\n",
    "            batch_size=self.config.params_batch_size,\n",
    "            interpolation=\"bilinear\"\n",
    "        )\n",
    "\n",
    "        valid_datagenerator = tf.keras.preprocessing.image.ImageDataGenerator(\n",
    "            **datagenerator_kwargs\n",
    "        )\n",
    "\n",
    "        self.valid_generator = valid_datagenerator.flow_from_directory(\n",
    "            directory=self.config.training_data,\n",
    "            subset=\"validation\",\n",
    "            shuffle=False,\n",
    "            **dataflow_kwargs\n",
    "        )\n",
    "\n",
    "        if self.config.params_is_augmentation:\n",
    "            train_datagenerator = tf.keras.preprocessing.image.ImageDataGenerator(\n",
    "                rotation_range=40,\n",
    "                horizontal_flip=True,\n",
    "                width_shift_range=0.2,\n",
    "                height_shift_range=0.2,\n",
    "                shear_range=0.2,\n",
    "                zoom_range=0.2,\n",
    "                **datagenerator_kwargs\n",
    "            )\n",
    "        else:\n",
    "            train_datagenerator = valid_datagenerator\n",
    "\n",
    "        self.train_generator = train_datagenerator.flow_from_directory(\n",
    "            directory=self.config.training_data,\n",
    "            subset=\"training\",\n",
    "            shuffle=True,\n",
    "            **dataflow_kwargs\n",
    "        )\n",
    "\n",
    "    \n",
    "    @staticmethod\n",
    "    def save_model(path: Path, model: tf.keras.Model):\n",
    "        model.save(path)\n",
    "\n",
    "\n",
    "\n",
    "    \n",
    "    def train(self):\n",
    "        self.steps_per_epoch = self.train_generator.samples // self.train_generator.batch_size\n",
    "        self.validation_steps = self.valid_generator.samples // self.valid_generator.batch_size\n",
    "\n",
    "        self.model.fit(\n",
    "            self.train_generator,\n",
    "            epochs=self.config.params_epochs,\n",
    "            steps_per_epoch=self.steps_per_epoch,\n",
    "            validation_steps=self.validation_steps,\n",
    "            validation_data=self.valid_generator\n",
    "        )\n",
    "\n",
    "        self.save_model(\n",
    "            path=self.config.trained_model_path,\n",
    "            model=self.model\n",
    "        )"
   ]
  },
  {
   "cell_type": "code",
   "execution_count": 27,
   "id": "5bdd4798",
   "metadata": {},
   "outputs": [
    {
     "name": "stdout",
     "output_type": "stream",
     "text": [
      "['data.zip', 'kidney-ct-scan-image', 'subset_kidney_ct_scan']\n"
     ]
    }
   ],
   "source": [
    "import os\n",
    "\n",
    "print(os.listdir(\"artifacts/data_ingestion\"))"
   ]
  },
  {
   "cell_type": "code",
   "execution_count": 28,
   "id": "e4622809",
   "metadata": {},
   "outputs": [
    {
     "name": "stdout",
     "output_type": "stream",
     "text": [
      "[2025-08-30 17:54:24,434: INFO: common: yaml file: config\\config.yaml loaded successfully]\n",
      "[2025-08-30 17:54:24,439: INFO: common: yaml file: params.yaml loaded successfully]\n",
      "[2025-08-30 17:54:24,439: INFO: common: created directory at: artifacts]\n",
      "[2025-08-30 17:54:24,439: INFO: common: created directory at: artifacts\\training]\n",
      "Found 200 images belonging to 2 classes.\n",
      "Found 800 images belonging to 2 classes.\n",
      "Epoch 1/10\n",
      "12/12 [==============================] - 96s 8s/step - loss: 0.7511 - accuracy: 0.4986 - val_loss: 0.5843 - val_accuracy: 0.7448\n",
      "Epoch 2/10\n",
      "12/12 [==============================] - 94s 8s/step - loss: 0.6975 - accuracy: 0.5448 - val_loss: 0.5781 - val_accuracy: 0.7448\n",
      "Epoch 3/10\n",
      "12/12 [==============================] - 92s 8s/step - loss: 0.6968 - accuracy: 0.5312 - val_loss: 0.5725 - val_accuracy: 0.7500\n",
      "Epoch 4/10\n",
      "12/12 [==============================] - 91s 8s/step - loss: 0.7109 - accuracy: 0.4959 - val_loss: 0.5698 - val_accuracy: 0.7552\n",
      "Epoch 5/10\n",
      "12/12 [==============================] - 95s 8s/step - loss: 0.6757 - accuracy: 0.5742 - val_loss: 0.5656 - val_accuracy: 0.7708\n",
      "Epoch 6/10\n",
      "12/12 [==============================] - 93s 8s/step - loss: 0.6793 - accuracy: 0.5829 - val_loss: 0.5603 - val_accuracy: 0.7708\n",
      "Epoch 7/10\n",
      "12/12 [==============================] - 93s 8s/step - loss: 0.6536 - accuracy: 0.6060 - val_loss: 0.5551 - val_accuracy: 0.7448\n",
      "Epoch 8/10\n",
      "12/12 [==============================] - 92s 8s/step - loss: 0.6446 - accuracy: 0.6440 - val_loss: 0.5577 - val_accuracy: 0.8125\n",
      "Epoch 9/10\n",
      "12/12 [==============================] - 92s 8s/step - loss: 0.6418 - accuracy: 0.6291 - val_loss: 0.5478 - val_accuracy: 0.7344\n",
      "Epoch 10/10\n",
      "12/12 [==============================] - 95s 8s/step - loss: 0.6457 - accuracy: 0.6367 - val_loss: 0.5424 - val_accuracy: 0.7812\n"
     ]
    }
   ],
   "source": [
    "\n",
    "try:\n",
    "    config = ConfigurationManager()\n",
    "    training_config = config.get_training_config()\n",
    "    training = Training(config=training_config)\n",
    "    training.get_base_model()\n",
    "    training.train_valid_generator()\n",
    "    training.train()\n",
    "    \n",
    "except Exception as e:\n",
    "    raise e"
   ]
  },
  {
   "cell_type": "code",
   "execution_count": 29,
   "id": "71cb9c35",
   "metadata": {},
   "outputs": [
    {
     "name": "stdout",
     "output_type": "stream",
     "text": [
      "Num GPUs Available: 0\n"
     ]
    }
   ],
   "source": [
    "import tensorflow as tf\n",
    "print(\"Num GPUs Available:\", len(tf.config.list_physical_devices('GPU')))\n"
   ]
  },
  {
   "cell_type": "code",
   "execution_count": 1,
   "id": "2fcf0b6f",
   "metadata": {},
   "outputs": [
    {
     "name": "stdout",
     "output_type": "stream",
     "text": [
      "True\n",
      "Quadro T1000\n"
     ]
    }
   ],
   "source": [
    "import torch\n",
    "print(torch.cuda.is_available())   # should be True\n",
    "print(torch.cuda.get_device_name(0))  # should show Quadro T1000\n"
   ]
  }
 ],
 "metadata": {
  "kernelspec": {
   "display_name": "kidney",
   "language": "python",
   "name": "python3"
  },
  "language_info": {
   "codemirror_mode": {
    "name": "ipython",
    "version": 3
   },
   "file_extension": ".py",
   "mimetype": "text/x-python",
   "name": "python",
   "nbconvert_exporter": "python",
   "pygments_lexer": "ipython3",
   "version": "3.11.13"
  }
 },
 "nbformat": 4,
 "nbformat_minor": 5
}
