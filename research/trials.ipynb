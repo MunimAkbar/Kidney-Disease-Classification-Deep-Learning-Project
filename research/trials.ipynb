{
 "cells": [
  {
   "cell_type": "code",
   "execution_count": 1,
   "id": "eea07de3",
   "metadata": {},
   "outputs": [
    {
     "name": "stdout",
     "output_type": "stream",
     "text": [
      "hello world\n"
     ]
    }
   ],
   "source": [
    "print(\"hello world\")"
   ]
  },
  {
   "cell_type": "code",
   "execution_count": 2,
   "id": "8de8c5da",
   "metadata": {},
   "outputs": [],
   "source": [
    "import gdown"
   ]
  },
  {
   "cell_type": "code",
   "execution_count": 3,
   "id": "8b883099",
   "metadata": {},
   "outputs": [],
   "source": [
    "url = 'https://drive.google.com/file/d/1oxYFzoUyP3B6wx11zO1Ou9UEiNIZasM7/view?usp=sharing'"
   ]
  },
  {
   "cell_type": "code",
   "execution_count": 4,
   "id": "67ce6a5b",
   "metadata": {},
   "outputs": [
    {
     "data": {
      "text/plain": [
       "'1oxYFzoUyP3B6wx11zO1Ou9UEiNIZasM7'"
      ]
     },
     "execution_count": 4,
     "metadata": {},
     "output_type": "execute_result"
    }
   ],
   "source": [
    "url.split('/')[-2]"
   ]
  },
  {
   "cell_type": "code",
   "execution_count": 5,
   "id": "9b299094",
   "metadata": {},
   "outputs": [
    {
     "data": {
      "text/plain": [
       "'1oxYFzoUyP3B6wx11zO1Ou9UEiNIZasM7'"
      ]
     },
     "execution_count": 5,
     "metadata": {},
     "output_type": "execute_result"
    }
   ],
   "source": [
    "file_id = url.split('/')[-2]\n",
    "file_id"
   ]
  },
  {
   "cell_type": "code",
   "execution_count": 6,
   "id": "8b8526a1",
   "metadata": {},
   "outputs": [
    {
     "name": "stderr",
     "output_type": "stream",
     "text": [
      "Downloading...\n",
      "From (original): https://drive.google.com/uc?id=1oxYFzoUyP3B6wx11zO1Ou9UEiNIZasM7\n",
      "From (redirected): https://drive.google.com/uc?id=1oxYFzoUyP3B6wx11zO1Ou9UEiNIZasM7&confirm=t&uuid=2311749f-028f-48cc-b0b1-78eb0d0d549c\n",
      "To: d:\\WorkANDProjects\\Kidney-Disease-Classification-Deep-Learning-Project\\research\\kidney-data.zip\n",
      "100%|██████████| 940M/940M [01:24<00:00, 11.2MB/s] \n"
     ]
    },
    {
     "data": {
      "text/plain": [
       "'kidney-data.zip'"
      ]
     },
     "execution_count": 6,
     "metadata": {},
     "output_type": "execute_result"
    }
   ],
   "source": [
    "prefix = 'https://drive.google.com/uc?id='\n",
    "gdown.download(prefix + file_id, 'kidney-data.zip', quiet=False)"
   ]
  },
  {
   "cell_type": "code",
   "execution_count": 7,
   "id": "2202e778",
   "metadata": {},
   "outputs": [],
   "source": [
    "import os"
   ]
  },
  {
   "cell_type": "code",
   "execution_count": 8,
   "id": "8717baad",
   "metadata": {},
   "outputs": [
    {
     "data": {
      "text/plain": [
       "'d:\\\\WorkANDProjects\\\\Kidney-Disease-Classification-Deep-Learning-Project\\\\research'"
      ]
     },
     "execution_count": 8,
     "metadata": {},
     "output_type": "execute_result"
    }
   ],
   "source": [
    "%pwd"
   ]
  },
  {
   "cell_type": "code",
   "execution_count": 9,
   "id": "515ff6db",
   "metadata": {},
   "outputs": [],
   "source": [
    "chdir = 'D:/WorkANDProjects/Kidney-Disease-Classification-Deep-Learning-Project'\n",
    "os.chdir(chdir)"
   ]
  },
  {
   "cell_type": "code",
   "execution_count": 10,
   "id": "6319640c",
   "metadata": {},
   "outputs": [
    {
     "data": {
      "text/plain": [
       "'D:\\\\WorkANDProjects\\\\Kidney-Disease-Classification-Deep-Learning-Project'"
      ]
     },
     "execution_count": 10,
     "metadata": {},
     "output_type": "execute_result"
    }
   ],
   "source": [
    "%pwd"
   ]
  },
  {
   "cell_type": "code",
   "execution_count": null,
   "id": "f4076169",
   "metadata": {},
   "outputs": [],
   "source": []
  }
 ],
 "metadata": {
  "kernelspec": {
   "display_name": "kidney",
   "language": "python",
   "name": "python3"
  },
  "language_info": {
   "codemirror_mode": {
    "name": "ipython",
    "version": 3
   },
   "file_extension": ".py",
   "mimetype": "text/x-python",
   "name": "python",
   "nbconvert_exporter": "python",
   "pygments_lexer": "ipython3",
   "version": "3.11.13"
  }
 },
 "nbformat": 4,
 "nbformat_minor": 5
}
