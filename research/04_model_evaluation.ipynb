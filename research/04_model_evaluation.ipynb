{
 "cells": [
  {
   "cell_type": "code",
   "execution_count": 1,
   "id": "4519c813",
   "metadata": {},
   "outputs": [
    {
     "name": "stdout",
     "output_type": "stream",
     "text": [
      "hello world\n"
     ]
    }
   ],
   "source": [
    "print(\"hello world\")"
   ]
  },
  {
   "cell_type": "code",
   "execution_count": 2,
   "id": "a87fbb27",
   "metadata": {},
   "outputs": [],
   "source": [
    "import os"
   ]
  },
  {
   "cell_type": "code",
   "execution_count": 4,
   "id": "8b552938",
   "metadata": {},
   "outputs": [],
   "source": [
    "os.chdir(\"d:/WorkANDProjects/Kidney-Disease-Classification-Deep-Learning-Project\")"
   ]
  },
  {
   "cell_type": "code",
   "execution_count": 5,
   "id": "a26e598a",
   "metadata": {},
   "outputs": [
    {
     "data": {
      "text/plain": [
       "'d:\\\\WorkANDProjects\\\\Kidney-Disease-Classification-Deep-Learning-Project'"
      ]
     },
     "execution_count": 5,
     "metadata": {},
     "output_type": "execute_result"
    }
   ],
   "source": [
    "%pwd"
   ]
  },
  {
   "cell_type": "code",
   "execution_count": 7,
   "id": "c8d420c6",
   "metadata": {},
   "outputs": [
    {
     "name": "stdout",
     "output_type": "stream",
     "text": [
      "Collecting dagshub\n",
      "  Downloading dagshub-0.6.3-py3-none-any.whl.metadata (12 kB)\n",
      "Requirement already satisfied: PyYAML>=5 in c:\\users\\pc\\anaconda3\\envs\\kidney\\lib\\site-packages (from dagshub) (6.0.2)\n",
      "Requirement already satisfied: appdirs>=1.4.4 in c:\\users\\pc\\anaconda3\\envs\\kidney\\lib\\site-packages (from dagshub) (1.4.4)\n",
      "Requirement already satisfied: click>=8.0.4 in c:\\users\\pc\\anaconda3\\envs\\kidney\\lib\\site-packages (from dagshub) (8.2.1)\n",
      "Requirement already satisfied: httpx>=0.23.0 in c:\\users\\pc\\anaconda3\\envs\\kidney\\lib\\site-packages (from dagshub) (0.28.1)\n",
      "Requirement already satisfied: GitPython>=3.1.29 in c:\\users\\pc\\anaconda3\\envs\\kidney\\lib\\site-packages (from dagshub) (3.1.45)\n",
      "Requirement already satisfied: rich>=13.1.0 in c:\\users\\pc\\anaconda3\\envs\\kidney\\lib\\site-packages (from dagshub) (14.1.0)\n",
      "Collecting dacite~=1.6.0 (from dagshub)\n",
      "  Downloading dacite-1.6.0-py3-none-any.whl.metadata (14 kB)\n",
      "Collecting tenacity>=8.2.2 (from dagshub)\n",
      "  Downloading tenacity-9.1.2-py3-none-any.whl.metadata (1.2 kB)\n",
      "Collecting gql[requests] (from dagshub)\n",
      "  Downloading gql-4.0.0-py3-none-any.whl.metadata (10 kB)\n",
      "Collecting dataclasses-json (from dagshub)\n",
      "  Downloading dataclasses_json-0.6.7-py3-none-any.whl.metadata (25 kB)\n",
      "Requirement already satisfied: pandas in c:\\users\\pc\\anaconda3\\envs\\kidney\\lib\\site-packages (from dagshub) (2.3.2)\n",
      "Collecting treelib>=1.6.4 (from dagshub)\n",
      "  Downloading treelib-1.8.0-py3-none-any.whl.metadata (3.3 kB)\n",
      "Collecting pathvalidate>=3.0.0 (from dagshub)\n",
      "  Downloading pathvalidate-3.3.1-py3-none-any.whl.metadata (12 kB)\n",
      "Requirement already satisfied: python-dateutil in c:\\users\\pc\\anaconda3\\envs\\kidney\\lib\\site-packages (from dagshub) (2.9.0.post0)\n",
      "Collecting boto3 (from dagshub)\n",
      "  Downloading boto3-1.40.21-py3-none-any.whl.metadata (6.7 kB)\n",
      "Requirement already satisfied: semver in c:\\users\\pc\\anaconda3\\envs\\kidney\\lib\\site-packages (from dagshub) (3.0.4)\n",
      "Collecting dagshub-annotation-converter>=0.1.12 (from dagshub)\n",
      "  Downloading dagshub_annotation_converter-0.1.13-py3-none-any.whl.metadata (3.2 kB)\n",
      "Requirement already satisfied: colorama in c:\\users\\pc\\anaconda3\\envs\\kidney\\lib\\site-packages (from click>=8.0.4->dagshub) (0.4.6)\n",
      "Collecting lxml (from dagshub-annotation-converter>=0.1.12->dagshub)\n",
      "  Downloading lxml-6.0.1-cp311-cp311-win_amd64.whl.metadata (3.9 kB)\n",
      "Requirement already satisfied: pillow in c:\\users\\pc\\anaconda3\\envs\\kidney\\lib\\site-packages (from dagshub-annotation-converter>=0.1.12->dagshub) (11.3.0)\n",
      "Requirement already satisfied: pydantic>=2.0.0 in c:\\users\\pc\\anaconda3\\envs\\kidney\\lib\\site-packages (from dagshub-annotation-converter>=0.1.12->dagshub) (2.11.7)\n",
      "Requirement already satisfied: typing-extensions in c:\\users\\pc\\anaconda3\\envs\\kidney\\lib\\site-packages (from dagshub-annotation-converter>=0.1.12->dagshub) (4.15.0)\n",
      "Requirement already satisfied: gitdb<5,>=4.0.1 in c:\\users\\pc\\anaconda3\\envs\\kidney\\lib\\site-packages (from GitPython>=3.1.29->dagshub) (4.0.12)\n",
      "Requirement already satisfied: smmap<6,>=3.0.1 in c:\\users\\pc\\anaconda3\\envs\\kidney\\lib\\site-packages (from gitdb<5,>=4.0.1->GitPython>=3.1.29->dagshub) (5.0.2)\n",
      "Requirement already satisfied: anyio in c:\\users\\pc\\anaconda3\\envs\\kidney\\lib\\site-packages (from httpx>=0.23.0->dagshub) (4.10.0)\n",
      "Requirement already satisfied: certifi in c:\\users\\pc\\anaconda3\\envs\\kidney\\lib\\site-packages (from httpx>=0.23.0->dagshub) (2025.8.3)\n",
      "Requirement already satisfied: httpcore==1.* in c:\\users\\pc\\anaconda3\\envs\\kidney\\lib\\site-packages (from httpx>=0.23.0->dagshub) (1.0.9)\n",
      "Requirement already satisfied: idna in c:\\users\\pc\\anaconda3\\envs\\kidney\\lib\\site-packages (from httpx>=0.23.0->dagshub) (3.10)\n",
      "Requirement already satisfied: h11>=0.16 in c:\\users\\pc\\anaconda3\\envs\\kidney\\lib\\site-packages (from httpcore==1.*->httpx>=0.23.0->dagshub) (0.16.0)\n",
      "Requirement already satisfied: annotated-types>=0.6.0 in c:\\users\\pc\\anaconda3\\envs\\kidney\\lib\\site-packages (from pydantic>=2.0.0->dagshub-annotation-converter>=0.1.12->dagshub) (0.7.0)\n",
      "Requirement already satisfied: pydantic-core==2.33.2 in c:\\users\\pc\\anaconda3\\envs\\kidney\\lib\\site-packages (from pydantic>=2.0.0->dagshub-annotation-converter>=0.1.12->dagshub) (2.33.2)\n",
      "Requirement already satisfied: typing-inspection>=0.4.0 in c:\\users\\pc\\anaconda3\\envs\\kidney\\lib\\site-packages (from pydantic>=2.0.0->dagshub-annotation-converter>=0.1.12->dagshub) (0.4.1)\n",
      "Requirement already satisfied: markdown-it-py>=2.2.0 in c:\\users\\pc\\anaconda3\\envs\\kidney\\lib\\site-packages (from rich>=13.1.0->dagshub) (4.0.0)\n",
      "Requirement already satisfied: pygments<3.0.0,>=2.13.0 in c:\\users\\pc\\anaconda3\\envs\\kidney\\lib\\site-packages (from rich>=13.1.0->dagshub) (2.19.2)\n",
      "Requirement already satisfied: mdurl~=0.1 in c:\\users\\pc\\anaconda3\\envs\\kidney\\lib\\site-packages (from markdown-it-py>=2.2.0->rich>=13.1.0->dagshub) (0.1.2)\n",
      "Requirement already satisfied: six>=1.13.0 in c:\\users\\pc\\anaconda3\\envs\\kidney\\lib\\site-packages (from treelib>=1.6.4->dagshub) (1.17.0)\n",
      "Requirement already satisfied: sniffio>=1.1 in c:\\users\\pc\\anaconda3\\envs\\kidney\\lib\\site-packages (from anyio->httpx>=0.23.0->dagshub) (1.3.1)\n",
      "Collecting botocore<1.41.0,>=1.40.21 (from boto3->dagshub)\n",
      "  Downloading botocore-1.40.21-py3-none-any.whl.metadata (5.7 kB)\n",
      "Collecting jmespath<2.0.0,>=0.7.1 (from boto3->dagshub)\n",
      "  Downloading jmespath-1.0.1-py3-none-any.whl.metadata (7.6 kB)\n",
      "Collecting s3transfer<0.14.0,>=0.13.0 (from boto3->dagshub)\n",
      "  Downloading s3transfer-0.13.1-py3-none-any.whl.metadata (1.7 kB)\n",
      "Requirement already satisfied: urllib3!=2.2.0,<3,>=1.25.4 in c:\\users\\pc\\anaconda3\\envs\\kidney\\lib\\site-packages (from botocore<1.41.0,>=1.40.21->boto3->dagshub) (2.5.0)\n",
      "Collecting marshmallow<4.0.0,>=3.18.0 (from dataclasses-json->dagshub)\n",
      "  Downloading marshmallow-3.26.1-py3-none-any.whl.metadata (7.3 kB)\n",
      "Collecting typing-inspect<1,>=0.4.0 (from dataclasses-json->dagshub)\n",
      "  Downloading typing_inspect-0.9.0-py3-none-any.whl.metadata (1.5 kB)\n",
      "Requirement already satisfied: packaging>=17.0 in c:\\users\\pc\\anaconda3\\envs\\kidney\\lib\\site-packages (from marshmallow<4.0.0,>=3.18.0->dataclasses-json->dagshub) (23.2)\n",
      "Collecting mypy-extensions>=0.3.0 (from typing-inspect<1,>=0.4.0->dataclasses-json->dagshub)\n",
      "  Downloading mypy_extensions-1.1.0-py3-none-any.whl.metadata (1.1 kB)\n",
      "Collecting graphql-core<3.3,>=3.2 (from gql[requests]->dagshub)\n",
      "  Downloading graphql_core-3.2.6-py3-none-any.whl.metadata (11 kB)\n",
      "Requirement already satisfied: yarl<2.0,>=1.6 in c:\\users\\pc\\anaconda3\\envs\\kidney\\lib\\site-packages (from gql[requests]->dagshub) (1.20.1)\n",
      "Collecting backoff<3.0,>=1.11.1 (from gql[requests]->dagshub)\n",
      "  Downloading backoff-2.2.1-py3-none-any.whl.metadata (14 kB)\n",
      "Requirement already satisfied: requests<3,>=2.26 in c:\\users\\pc\\anaconda3\\envs\\kidney\\lib\\site-packages (from gql[requests]->dagshub) (2.32.5)\n",
      "Collecting requests_toolbelt<2,>=1.0.0 (from gql[requests]->dagshub)\n",
      "  Downloading requests_toolbelt-1.0.0-py2.py3-none-any.whl.metadata (14 kB)\n",
      "Requirement already satisfied: charset_normalizer<4,>=2 in c:\\users\\pc\\anaconda3\\envs\\kidney\\lib\\site-packages (from requests<3,>=2.26->gql[requests]->dagshub) (3.4.3)\n",
      "Requirement already satisfied: multidict>=4.0 in c:\\users\\pc\\anaconda3\\envs\\kidney\\lib\\site-packages (from yarl<2.0,>=1.6->gql[requests]->dagshub) (6.6.4)\n",
      "Requirement already satisfied: propcache>=0.2.1 in c:\\users\\pc\\anaconda3\\envs\\kidney\\lib\\site-packages (from yarl<2.0,>=1.6->gql[requests]->dagshub) (0.3.2)\n",
      "Requirement already satisfied: numpy>=1.23.2 in c:\\users\\pc\\anaconda3\\envs\\kidney\\lib\\site-packages (from pandas->dagshub) (1.23.5)\n",
      "Requirement already satisfied: pytz>=2020.1 in c:\\users\\pc\\anaconda3\\envs\\kidney\\lib\\site-packages (from pandas->dagshub) (2022.7.1)\n",
      "Requirement already satisfied: tzdata>=2022.7 in c:\\users\\pc\\anaconda3\\envs\\kidney\\lib\\site-packages (from pandas->dagshub) (2025.2)\n",
      "Downloading dagshub-0.6.3-py3-none-any.whl (261 kB)\n",
      "Downloading dacite-1.6.0-py3-none-any.whl (12 kB)\n",
      "Downloading dagshub_annotation_converter-0.1.13-py3-none-any.whl (35 kB)\n",
      "Downloading pathvalidate-3.3.1-py3-none-any.whl (24 kB)\n",
      "Downloading tenacity-9.1.2-py3-none-any.whl (28 kB)\n",
      "Downloading treelib-1.8.0-py3-none-any.whl (30 kB)\n",
      "Downloading boto3-1.40.21-py3-none-any.whl (139 kB)\n",
      "Downloading botocore-1.40.21-py3-none-any.whl (14.0 MB)\n",
      "   ---------------------------------------- 0.0/14.0 MB ? eta -:--:--\n",
      "   ----- ---------------------------------- 1.8/14.0 MB 10.1 MB/s eta 0:00:02\n",
      "   ----------- ---------------------------- 3.9/14.0 MB 10.2 MB/s eta 0:00:01\n",
      "   ----------------- ---------------------- 6.3/14.0 MB 10.2 MB/s eta 0:00:01\n",
      "   ------------------------ --------------- 8.7/14.0 MB 10.5 MB/s eta 0:00:01\n",
      "   -------------------------------- ------- 11.3/14.0 MB 10.7 MB/s eta 0:00:01\n",
      "   ---------------------------------------  13.9/14.0 MB 10.9 MB/s eta 0:00:01\n",
      "   ---------------------------------------- 14.0/14.0 MB 10.7 MB/s  0:00:01\n",
      "Downloading jmespath-1.0.1-py3-none-any.whl (20 kB)\n",
      "Downloading s3transfer-0.13.1-py3-none-any.whl (85 kB)\n",
      "Downloading dataclasses_json-0.6.7-py3-none-any.whl (28 kB)\n",
      "Downloading marshmallow-3.26.1-py3-none-any.whl (50 kB)\n",
      "Downloading typing_inspect-0.9.0-py3-none-any.whl (8.8 kB)\n",
      "Downloading mypy_extensions-1.1.0-py3-none-any.whl (5.0 kB)\n",
      "Downloading gql-4.0.0-py3-none-any.whl (89 kB)\n",
      "Downloading backoff-2.2.1-py3-none-any.whl (15 kB)\n",
      "Downloading graphql_core-3.2.6-py3-none-any.whl (203 kB)\n",
      "Downloading requests_toolbelt-1.0.0-py2.py3-none-any.whl (54 kB)\n",
      "Downloading lxml-6.0.1-cp311-cp311-win_amd64.whl (4.0 MB)\n",
      "   ---------------------------------------- 0.0/4.0 MB ? eta -:--:--\n",
      "   ----------------------- ---------------- 2.4/4.0 MB 11.2 MB/s eta 0:00:01\n",
      "   ---------------------------------------- 4.0/4.0 MB 11.0 MB/s  0:00:00\n",
      "Installing collected packages: treelib, tenacity, pathvalidate, mypy-extensions, marshmallow, lxml, jmespath, graphql-core, dacite, backoff, typing-inspect, requests_toolbelt, gql, botocore, s3transfer, dataclasses-json, dagshub-annotation-converter, boto3, dagshub\n",
      "\n",
      "   -------- -------------------------------  4/19 [marshmallow]\n",
      "   ---------- -----------------------------  5/19 [lxml]\n",
      "   ------------ ---------------------------  6/19 [jmespath]\n",
      "   -------------- -------------------------  7/19 [graphql-core]\n",
      "   -------------- -------------------------  7/19 [graphql-core]\n",
      "   ---------------- -----------------------  8/19 [dacite]\n",
      "   ----------------------- ---------------- 11/19 [requests_toolbelt]\n",
      "   ------------------------- -------------- 12/19 [gql]\n",
      "   --------------------------- ------------ 13/19 [botocore]\n",
      "   --------------------------- ------------ 13/19 [botocore]\n",
      "   --------------------------- ------------ 13/19 [botocore]\n",
      "   --------------------------- ------------ 13/19 [botocore]\n",
      "   --------------------------- ------------ 13/19 [botocore]\n",
      "   --------------------------- ------------ 13/19 [botocore]\n",
      "   --------------------------- ------------ 13/19 [botocore]\n",
      "   --------------------------- ------------ 13/19 [botocore]\n",
      "   --------------------------- ------------ 13/19 [botocore]\n",
      "   --------------------------- ------------ 13/19 [botocore]\n",
      "   --------------------------- ------------ 13/19 [botocore]\n",
      "   ----------------------------- ---------- 14/19 [s3transfer]\n",
      "   -------------------------------- ------ 16/19 [dagshub-annotation-converter]\n",
      "   ----------------------------------- ---- 17/19 [boto3]\n",
      "   ------------------------------------- -- 18/19 [dagshub]\n",
      "   ------------------------------------- -- 18/19 [dagshub]\n",
      "   ---------------------------------------- 19/19 [dagshub]\n",
      "\n",
      "Successfully installed backoff-2.2.1 boto3-1.40.21 botocore-1.40.21 dacite-1.6.0 dagshub-0.6.3 dagshub-annotation-converter-0.1.13 dataclasses-json-0.6.7 gql-4.0.0 graphql-core-3.2.6 jmespath-1.0.1 lxml-6.0.1 marshmallow-3.26.1 mypy-extensions-1.1.0 pathvalidate-3.3.1 requests_toolbelt-1.0.0 s3transfer-0.13.1 tenacity-9.1.2 treelib-1.8.0 typing-inspect-0.9.0\n",
      "Note: you may need to restart the kernel to use updated packages.\n"
     ]
    }
   ],
   "source": [
    "pip install dagshub"
   ]
  },
  {
   "cell_type": "code",
   "execution_count": 9,
   "id": "1a06bef2",
   "metadata": {},
   "outputs": [
    {
     "data": {
      "text/html": [
       "<pre style=\"white-space:pre;overflow-x:auto;line-height:normal;font-family:Menlo,'DejaVu Sans Mono',consolas,'Courier New',monospace\">                                       <span style=\"font-weight: bold\">❗❗❗ AUTHORIZATION REQUIRED ❗❗❗</span>                                        \n",
       "</pre>\n"
      ],
      "text/plain": [
       "                                       \u001b[1m❗❗❗ AUTHORIZATION REQUIRED ❗❗❗\u001b[0m                                        \n"
      ]
     },
     "metadata": {},
     "output_type": "display_data"
    },
    {
     "name": "stdout",
     "output_type": "stream",
     "text": [
      "\n",
      "\n",
      "Open the following link in your browser to authorize the client:\n",
      "https://dagshub.com/login/oauth/authorize?state=2a6709b5-be2d-4dd3-9d65-531b7f839112&client_id=32b60ba385aa7cecf24046d8195a71c07dd345d9657977863b52e7748e0f0f28&middleman_request_id=ff50b29e608d03476893cf7d9d1b08bb6111e32a9c3dae05bf1e6ad663dfd246\n",
      "\n",
      "\n"
     ]
    },
    {
     "data": {
      "text/html": [
       "<pre style=\"white-space:pre;overflow-x:auto;line-height:normal;font-family:Menlo,'DejaVu Sans Mono',consolas,'Courier New',monospace\"></pre>\n"
      ],
      "text/plain": []
     },
     "metadata": {},
     "output_type": "display_data"
    },
    {
     "data": {
      "text/html": [
       "<pre style=\"white-space:pre;overflow-x:auto;line-height:normal;font-family:Menlo,'DejaVu Sans Mono',consolas,'Courier New',monospace\">Accessing as MunimAkbar\n",
       "</pre>\n"
      ],
      "text/plain": [
       "Accessing as MunimAkbar\n"
      ]
     },
     "metadata": {},
     "output_type": "display_data"
    },
    {
     "data": {
      "text/html": [
       "<pre style=\"white-space:pre;overflow-x:auto;line-height:normal;font-family:Menlo,'DejaVu Sans Mono',consolas,'Courier New',monospace\">Initialized MLflow to track repo <span style=\"color: #008000; text-decoration-color: #008000\">\"MunimAkbar/Kidney-Disease-Classification-Deep-Learning-Project\"</span>\n",
       "</pre>\n"
      ],
      "text/plain": [
       "Initialized MLflow to track repo \u001b[32m\"MunimAkbar/Kidney-Disease-Classification-Deep-Learning-Project\"\u001b[0m\n"
      ]
     },
     "metadata": {},
     "output_type": "display_data"
    },
    {
     "data": {
      "text/html": [
       "<pre style=\"white-space:pre;overflow-x:auto;line-height:normal;font-family:Menlo,'DejaVu Sans Mono',consolas,'Courier New',monospace\">Repository MunimAkbar/Kidney-Disease-Classification-Deep-Learning-Project initialized!\n",
       "</pre>\n"
      ],
      "text/plain": [
       "Repository MunimAkbar/Kidney-Disease-Classification-Deep-Learning-Project initialized!\n"
      ]
     },
     "metadata": {},
     "output_type": "display_data"
    },
    {
     "name": "stderr",
     "output_type": "stream",
     "text": [
      "c:\\Users\\pc\\anaconda3\\envs\\kidney\\Lib\\site-packages\\mlflow\\utils\\requirements_utils.py:12: UserWarning: pkg_resources is deprecated as an API. See https://setuptools.pypa.io/en/latest/pkg_resources.html. The pkg_resources package is slated for removal as early as 2025-11-30. Refrain from using this package or pin to Setuptools<81.\n",
      "  import pkg_resources\n"
     ]
    }
   ],
   "source": [
    "import dagshub\n",
    "dagshub.init(repo_owner='MunimAkbar', repo_name='Kidney-Disease-Classification-Deep-Learning-Project', mlflow=True)\n",
    "\n",
    "import mlflow\n",
    "with mlflow.start_run():\n",
    "  mlflow.log_param('parameter name', 'value')\n",
    "  mlflow.log_metric('metric name', 1)"
   ]
  },
  {
   "cell_type": "code",
   "execution_count": 1,
   "id": "ccb397d6",
   "metadata": {},
   "outputs": [
    {
     "data": {
      "text/html": [
       "<pre style=\"white-space:pre;overflow-x:auto;line-height:normal;font-family:Menlo,'DejaVu Sans Mono',consolas,'Courier New',monospace\">Accessing as MunimAkbar\n",
       "</pre>\n"
      ],
      "text/plain": [
       "Accessing as MunimAkbar\n"
      ]
     },
     "metadata": {},
     "output_type": "display_data"
    },
    {
     "data": {
      "text/html": [
       "<pre style=\"white-space:pre;overflow-x:auto;line-height:normal;font-family:Menlo,'DejaVu Sans Mono',consolas,'Courier New',monospace\">Initialized MLflow to track repo <span style=\"color: #008000; text-decoration-color: #008000\">\"MunimAkbar/Kidney-Disease-Classification-Deep-Learning-Project\"</span>\n",
       "</pre>\n"
      ],
      "text/plain": [
       "Initialized MLflow to track repo \u001b[32m\"MunimAkbar/Kidney-Disease-Classification-Deep-Learning-Project\"\u001b[0m\n"
      ]
     },
     "metadata": {},
     "output_type": "display_data"
    },
    {
     "data": {
      "text/html": [
       "<pre style=\"white-space:pre;overflow-x:auto;line-height:normal;font-family:Menlo,'DejaVu Sans Mono',consolas,'Courier New',monospace\">Repository MunimAkbar/Kidney-Disease-Classification-Deep-Learning-Project initialized!\n",
       "</pre>\n"
      ],
      "text/plain": [
       "Repository MunimAkbar/Kidney-Disease-Classification-Deep-Learning-Project initialized!\n"
      ]
     },
     "metadata": {},
     "output_type": "display_data"
    },
    {
     "name": "stderr",
     "output_type": "stream",
     "text": [
      "c:\\Users\\pc\\anaconda3\\envs\\kidney\\Lib\\site-packages\\mlflow\\utils\\requirements_utils.py:12: UserWarning: pkg_resources is deprecated as an API. See https://setuptools.pypa.io/en/latest/pkg_resources.html. The pkg_resources package is slated for removal as early as 2025-11-30. Refrain from using this package or pin to Setuptools<81.\n",
      "  import pkg_resources\n"
     ]
    }
   ],
   "source": [
    "import dagshub\n",
    "dagshub.init(repo_owner='MunimAkbar', repo_name='Kidney-Disease-Classification-Deep-Learning-Project', mlflow=True)\n",
    "\n",
    "import mlflow\n",
    "with mlflow.start_run():\n",
    "  mlflow.log_param('parameter name', 'value')\n",
    "  mlflow.log_metric('metric name', 1)"
   ]
  },
  {
   "cell_type": "code",
   "execution_count": 11,
   "id": "1ef239cc",
   "metadata": {},
   "outputs": [],
   "source": [
    "\n",
    "import tensorflow as tf"
   ]
  },
  {
   "cell_type": "code",
   "execution_count": 12,
   "id": "7f5260fb",
   "metadata": {},
   "outputs": [],
   "source": [
    "model = tf.keras.models.load_model(\"artifacts/training/model.h5\")"
   ]
  },
  {
   "cell_type": "code",
   "execution_count": 13,
   "id": "4328e1b4",
   "metadata": {},
   "outputs": [],
   "source": [
    "\n",
    "from dataclasses import dataclass\n",
    "from pathlib import Path\n",
    "\n",
    "@dataclass(frozen=True)\n",
    "class EvaluationConfig:\n",
    "    path_of_model: Path\n",
    "    training_data: Path\n",
    "    all_params: dict\n",
    "    mlflow_uri: str\n",
    "    params_image_size: list\n",
    "    params_batch_size: int"
   ]
  },
  {
   "cell_type": "code",
   "execution_count": 14,
   "id": "af38fa65",
   "metadata": {},
   "outputs": [],
   "source": [
    "\n",
    "from cnnClassifier.constants import *\n",
    "from cnnClassifier.utils.common import read_yaml, create_directories, save_json"
   ]
  },
  {
   "cell_type": "code",
   "execution_count": 15,
   "id": "227f029a",
   "metadata": {},
   "outputs": [],
   "source": [
    "class ConfigurationManager:\n",
    "    def __init__(\n",
    "        self, \n",
    "        config_filepath = CONFIG_FILE_PATH,\n",
    "        params_filepath = PARAMS_FILE_PATH):\n",
    "        self.config = read_yaml(config_filepath)\n",
    "        self.params = read_yaml(params_filepath)\n",
    "        create_directories([self.config.artifacts_root])\n",
    "\n",
    "    \n",
    "    def get_evaluation_config(self) -> EvaluationConfig:\n",
    "        eval_config = EvaluationConfig(\n",
    "            path_of_model=\"artifacts/training/model.h5\",\n",
    "            training_data=\"artifacts/data_ingestion/kidney-ct-scan-image\",\n",
    "            mlflow_uri=\"https://dagshub.com/MunimAkbar/Kidney-Disease-Classification-Deep-Learning-Project.mlflow\",\n",
    "            all_params=self.params,\n",
    "            params_image_size=self.params.IMAGE_SIZE,\n",
    "            params_batch_size=self.params.BATCH_SIZE\n",
    "        )\n",
    "        return eval_config"
   ]
  },
  {
   "cell_type": "code",
   "execution_count": 16,
   "id": "dc828151",
   "metadata": {},
   "outputs": [],
   "source": [
    "\n",
    "import tensorflow as tf\n",
    "from pathlib import Path\n",
    "import mlflow\n",
    "import mlflow.keras\n",
    "from urllib.parse import urlparse"
   ]
  },
  {
   "cell_type": "code",
   "execution_count": 17,
   "id": "8b898b58",
   "metadata": {},
   "outputs": [],
   "source": [
    "class Evaluation:\n",
    "    def __init__(self, config: EvaluationConfig):\n",
    "        self.config = config\n",
    "\n",
    "    \n",
    "    def _valid_generator(self):\n",
    "\n",
    "        datagenerator_kwargs = dict(\n",
    "            rescale = 1./255,\n",
    "            validation_split=0.30\n",
    "        )\n",
    "\n",
    "        dataflow_kwargs = dict(\n",
    "            target_size=self.config.params_image_size[:-1],\n",
    "            batch_size=self.config.params_batch_size,\n",
    "            interpolation=\"bilinear\"\n",
    "        )\n",
    "\n",
    "        valid_datagenerator = tf.keras.preprocessing.image.ImageDataGenerator(\n",
    "            **datagenerator_kwargs\n",
    "        )\n",
    "\n",
    "        self.valid_generator = valid_datagenerator.flow_from_directory(\n",
    "            directory=self.config.training_data,\n",
    "            subset=\"validation\",\n",
    "            shuffle=False,\n",
    "            **dataflow_kwargs\n",
    "        )\n",
    "\n",
    "\n",
    "    @staticmethod\n",
    "    def load_model(path: Path) -> tf.keras.Model:\n",
    "        return tf.keras.models.load_model(path)\n",
    "    \n",
    "\n",
    "    def evaluation(self):\n",
    "        self.model = self.load_model(self.config.path_of_model)\n",
    "        self._valid_generator()\n",
    "        self.score = model.evaluate(self.valid_generator)\n",
    "        self.save_score()\n",
    "\n",
    "    def save_score(self):\n",
    "        scores = {\"loss\": self.score[0], \"accuracy\": self.score[1]}\n",
    "        save_json(path=Path(\"scores.json\"), data=scores)\n",
    "\n",
    "    \n",
    "    def log_into_mlflow(self):\n",
    "        mlflow.set_registry_uri(self.config.mlflow_uri)\n",
    "        tracking_url_type_store = urlparse(mlflow.get_tracking_uri()).scheme\n",
    "        \n",
    "        with mlflow.start_run():\n",
    "            mlflow.log_params(self.config.all_params)\n",
    "            mlflow.log_metrics(\n",
    "                {\"loss\": self.score[0], \"accuracy\": self.score[1]}\n",
    "            )\n",
    "            # Model registry does not work with file store\n",
    "            if tracking_url_type_store != \"file\":\n",
    "\n",
    "                # Register the model\n",
    "                # There are other ways to use the Model Registry, which depends on the use case,\n",
    "                # please refer to the doc for more information:\n",
    "                # https://mlflow.org/docs/latest/model-registry.html#api-workflow\n",
    "                mlflow.keras.log_model(self.model, \"model\", registered_model_name=\"VGG16Model\")\n",
    "            else:\n",
    "                mlflow.keras.log_model(self.model, \"model\")"
   ]
  },
  {
   "cell_type": "code",
   "execution_count": 19,
   "id": "efe9c90b",
   "metadata": {},
   "outputs": [
    {
     "name": "stdout",
     "output_type": "stream",
     "text": [
      "[2025-08-30 21:02:19,163: INFO: common: yaml file: config\\config.yaml loaded successfully]\n",
      "[2025-08-30 21:02:19,174: INFO: common: yaml file: params.yaml loaded successfully]\n",
      "[2025-08-30 21:02:19,176: INFO: common: created directory at: artifacts]\n",
      "Found 300 images belonging to 2 classes.\n",
      "10/10 [==============================] - 28s 3s/step - loss: 15.6398 - accuracy: 0.5000\n",
      "[2025-08-30 21:02:47,722: INFO: common: json file saved at: scores.json]\n"
     ]
    },
    {
     "name": "stderr",
     "output_type": "stream",
     "text": [
      "2025/08/30 21:02:48 WARNING mlflow.tensorflow: You are saving a TensorFlow Core model or Keras model without a signature. Inference with mlflow.pyfunc.spark_udf() will not work unless the model's pyfunc representation accepts pandas DataFrames as inference inputs.\n"
     ]
    },
    {
     "name": "stdout",
     "output_type": "stream",
     "text": [
      "[2025-08-30 21:02:50,202: WARNING: save: Found untraced functions such as _jit_compiled_convolution_op, _jit_compiled_convolution_op, _jit_compiled_convolution_op, _jit_compiled_convolution_op, _jit_compiled_convolution_op while saving (showing 5 of 14). These functions will not be directly callable after loading.]\n",
      "INFO:tensorflow:Assets written to: C:\\Users\\pc\\AppData\\Local\\Temp\\tmpl3quf3nz\\model\\data\\model\\assets\n",
      "[2025-08-30 21:02:50,770: INFO: builder_impl: Assets written to: C:\\Users\\pc\\AppData\\Local\\Temp\\tmpl3quf3nz\\model\\data\\model\\assets]\n"
     ]
    },
    {
     "name": "stderr",
     "output_type": "stream",
     "text": [
      "Registered model 'VGG16Model' already exists. Creating a new version of this model...\n",
      "2025/08/30 21:03:46 INFO mlflow.tracking._model_registry.client: Waiting up to 300 seconds for model version to finish creation.                     Model name: VGG16Model, version 2\n",
      "Created version '2' of model 'VGG16Model'.\n"
     ]
    }
   ],
   "source": [
    "try:\n",
    "    config = ConfigurationManager()\n",
    "    eval_config = config.get_evaluation_config()\n",
    "    evaluation = Evaluation(eval_config)\n",
    "    evaluation.evaluation()\n",
    "    evaluation.log_into_mlflow()\n",
    "\n",
    "except Exception as e:\n",
    "   raise e"
   ]
  },
  {
   "cell_type": "code",
   "execution_count": null,
   "id": "e0f277e6",
   "metadata": {},
   "outputs": [],
   "source": []
  }
 ],
 "metadata": {
  "kernelspec": {
   "display_name": "kidney",
   "language": "python",
   "name": "python3"
  },
  "language_info": {
   "codemirror_mode": {
    "name": "ipython",
    "version": 3
   },
   "file_extension": ".py",
   "mimetype": "text/x-python",
   "name": "python",
   "nbconvert_exporter": "python",
   "pygments_lexer": "ipython3",
   "version": "3.11.13"
  }
 },
 "nbformat": 4,
 "nbformat_minor": 5
}
